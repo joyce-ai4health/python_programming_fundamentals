{
  "nbformat": 4,
  "nbformat_minor": 0,
  "metadata": {
    "colab": {
      "provenance": []
    },
    "kernelspec": {
      "name": "python3",
      "display_name": "Python 3"
    },
    "language_info": {
      "name": "python"
    }
  },
  "cells": [
    {
      "cell_type": "code",
      "execution_count": null,
      "metadata": {
        "colab": {
          "base_uri": "https://localhost:8080/"
        },
        "id": "O17u3dyBA-a5",
        "outputId": "a01501fc-4652-48f2-a7b6-f651c2ede855"
      },
      "outputs": [
        {
          "output_type": "execute_result",
          "data": {
            "text/plain": [
              "3"
            ]
          },
          "metadata": {},
          "execution_count": 1
        }
      ],
      "source": [
        "len(['A','B',1])"
      ]
    },
    {
      "cell_type": "code",
      "source": [
        "len([sum([1,1,1])])"
      ],
      "metadata": {
        "colab": {
          "base_uri": "https://localhost:8080/"
        },
        "id": "xA2w0g2YBnH_",
        "outputId": "8153a9ff-dbe7-4000-c057-d37ed72f86fe"
      },
      "execution_count": null,
      "outputs": [
        {
          "output_type": "execute_result",
          "data": {
            "text/plain": [
              "1"
            ]
          },
          "metadata": {},
          "execution_count": 2
        }
      ]
    },
    {
      "cell_type": "code",
      "source": [
        "L = [1, 3, 2]\n",
        "\n",
        "# Get a sorted version of L without changing L\n",
        "new_list = sorted(L)\n",
        "\n",
        "print(\"Original list:\", L)    # Output: [1, 3, 2]\n",
        "print(\"Sorted list:\", new_list)  # Output: [1, 2, 3]\n"
      ],
      "metadata": {
        "colab": {
          "base_uri": "https://localhost:8080/"
        },
        "id": "boY-602SBv-c",
        "outputId": "36bce318-8708-4ac8-da5c-eb9e99670f4d"
      },
      "execution_count": null,
      "outputs": [
        {
          "output_type": "stream",
          "name": "stdout",
          "text": [
            "Original list: [1, 3, 2]\n",
            "Sorted list: [1, 2, 3]\n"
          ]
        }
      ]
    },
    {
      "cell_type": "code",
      "source": [
        "def print_function(A):\n",
        "    for a in A:\n",
        "        print(a + '1')\n",
        "print_function(['a', 'b', 'c'])"
      ],
      "metadata": {
        "colab": {
          "base_uri": "https://localhost:8080/"
        },
        "id": "xcDy2qOcB3al",
        "outputId": "a0b50d32-4693-4e9e-e3a8-b95c78ed26d5"
      },
      "execution_count": null,
      "outputs": [
        {
          "output_type": "stream",
          "name": "stdout",
          "text": [
            "a1\n",
            "b1\n",
            "c1\n"
          ]
        }
      ]
    },
    {
      "cell_type": "code",
      "source": [
        "len(['A','B',1])"
      ],
      "metadata": {
        "colab": {
          "base_uri": "https://localhost:8080/"
        },
        "id": "WUUZgHfxCue_",
        "outputId": "55322583-d366-445a-fc7b-d870d63f3a93"
      },
      "execution_count": null,
      "outputs": [
        {
          "output_type": "execute_result",
          "data": {
            "text/plain": [
              "3"
            ]
          },
          "metadata": {},
          "execution_count": 6
        }
      ]
    },
    {
      "cell_type": "code",
      "source": [
        "len([sum([1,1,1])])"
      ],
      "metadata": {
        "id": "eY1EFl8xC_8D",
        "outputId": "d76a6f8a-bc7d-4b0c-f063-a7090f24d244",
        "colab": {
          "base_uri": "https://localhost:8080/"
        }
      },
      "execution_count": null,
      "outputs": [
        {
          "output_type": "execute_result",
          "data": {
            "text/plain": [
              "1"
            ]
          },
          "metadata": {},
          "execution_count": 7
        }
      ]
    }
  ]
}