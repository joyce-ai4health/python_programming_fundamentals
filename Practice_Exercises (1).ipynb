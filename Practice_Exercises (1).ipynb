{
  "nbformat": 4,
  "nbformat_minor": 0,
  "metadata": {
    "colab": {
      "provenance": []
    },
    "kernelspec": {
      "name": "python3",
      "display_name": "Python 3"
    },
    "language_info": {
      "name": "python"
    }
  },
  "cells": [
    {
      "cell_type": "code",
      "execution_count": 7,
      "metadata": {
        "colab": {
          "base_uri": "https://localhost:8080/"
        },
        "id": "l5uD48cUZHu6",
        "outputId": "10cad523-6780-4b82-a38b-4fbb88e941a6"
      },
      "outputs": [
        {
          "output_type": "stream",
          "name": "stdout",
          "text": [
            "The square root is: 5.0\n",
            "Invalid input! Please enter a positive integer or a float value.\n"
          ]
        }
      ],
      "source": [
        "# Exercise 1: Handling ZeroDivisionError\n",
        "def calculate_square_root(number1):\n",
        "    if number1 >= 0:\n",
        "        result = number1 ** 0.5\n",
        "        print(\"The square root is:\", result)\n",
        "    else:\n",
        "        print(\"Invalid input! Please enter a positive integer or a float value.\")\n",
        "\n",
        "# Call the function with a number\n",
        "calculate_square_root(25)   # Example: prints 5.0\n",
        "calculate_square_root(-9)   # Example: prints the invalid input message\n",
        "\n"
      ]
    }
  ]
}