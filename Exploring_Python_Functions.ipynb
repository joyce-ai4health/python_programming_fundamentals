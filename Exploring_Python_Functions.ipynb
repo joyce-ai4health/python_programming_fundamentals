{
  "nbformat": 4,
  "nbformat_minor": 0,
  "metadata": {
    "colab": {
      "provenance": []
    },
    "kernelspec": {
      "name": "python3",
      "display_name": "Python 3"
    },
    "language_info": {
      "name": "python"
    }
  },
  "cells": [
    {
      "cell_type": "code",
      "execution_count": 1,
      "metadata": {
        "colab": {
          "base_uri": "https://localhost:8080/"
        },
        "id": "nzC1-AlczsSB",
        "outputId": "2390fe27-44ab-44c5-ee29-d3807ea4b119"
      },
      "outputs": [
        {
          "output_type": "stream",
          "name": "stdout",
          "text": [
            "12\n"
          ]
        }
      ],
      "source": [
        "# Consider a function named calculate_total that takes two numbers as input (parameters), adds them together, and then produces the sum as the output. Here's how it works:\n",
        "def calculate_total(a, b):  # Parameters: a and b\n",
        "    total = a + b           # Task: Addition\n",
        "    return total            # Output: Sum of a and b\n",
        "result = calculate_total(5, 7)  # Calling the function with inputs 5 and 7\n",
        "print(result)  # Output: 12"
      ]
    },
    {
      "cell_type": "code",
      "source": [
        "# len(): Calculates the length of a sequence or collection\n",
        "string_length = len(\"Hello, World!\")  # Output: 13\n",
        "list_length = len([1, 2, 3, 4, 5])   # Output: 5\n",
        "print(string_length)\n"
      ],
      "metadata": {
        "colab": {
          "base_uri": "https://localhost:8080/"
        },
        "id": "ZrwzBQo7z7aI",
        "outputId": "e1a3fb2b-8778-45ae-efde-ec0bf2e3edc1"
      },
      "execution_count": 4,
      "outputs": [
        {
          "output_type": "stream",
          "name": "stdout",
          "text": [
            "13\n"
          ]
        }
      ]
    },
    {
      "cell_type": "code",
      "source": [
        "# sum(): Adds up the elements in an iterable (list, tuple, and so on)\n",
        "total = sum([10, 20, 30, 40, 50])  # Output: 150\n",
        "print(total)"
      ],
      "metadata": {
        "colab": {
          "base_uri": "https://localhost:8080/"
        },
        "id": "QlWkMLI90Pox",
        "outputId": "7f00de35-4169-4972-80d2-5e6da965e155"
      },
      "execution_count": 6,
      "outputs": [
        {
          "output_type": "stream",
          "name": "stdout",
          "text": [
            "150\n"
          ]
        }
      ]
    },
    {
      "cell_type": "code",
      "source": [
        "# max(): Returns the maximum value in an iterable\n",
        "\n",
        "highest = max([5, 12, 8, 23, 16])  # Output: 23\n",
        "print(highest)"
      ],
      "metadata": {
        "colab": {
          "base_uri": "https://localhost:8080/"
        },
        "id": "qSMbf1HO0tEr",
        "outputId": "c584b826-289b-4a4d-b456-a5280fbaf088"
      },
      "execution_count": 7,
      "outputs": [
        {
          "output_type": "stream",
          "name": "stdout",
          "text": [
            "23\n"
          ]
        }
      ]
    },
    {
      "cell_type": "code",
      "source": [
        "# min(): Returns the minimum value in an iterable\n",
        "lowest = min([5, 12, 8, 23, 16])  # Output: 5\n",
        "print(lowest)"
      ],
      "metadata": {
        "colab": {
          "base_uri": "https://localhost:8080/"
        },
        "id": "CatQRHzq08AQ",
        "outputId": "64c939e9-c4fb-4bc3-a1b7-ee55d7e75a4f"
      },
      "execution_count": 9,
      "outputs": [
        {
          "output_type": "stream",
          "name": "stdout",
          "text": [
            "5\n"
          ]
        }
      ]
    },
    {
      "cell_type": "code",
      "source": [
        "def greet(name):\n",
        "    return \"Hello, \" + name\n",
        "result = greet(\"Alice\")\n",
        "print(result)  # Output: Hello, Alice"
      ],
      "metadata": {
        "colab": {
          "base_uri": "https://localhost:8080/"
        },
        "id": "CmSO3vTe0_1b",
        "outputId": "4d4254e9-4905-4182-c8d9-9f21147b795e"
      },
      "execution_count": 10,
      "outputs": [
        {
          "output_type": "stream",
          "name": "stdout",
          "text": [
            "Hello, Alice\n"
          ]
        }
      ]
    },
    {
      "cell_type": "code",
      "source": [
        "def multiply(a, b):\n",
        "    \"\"\"\n",
        "    This function multiplies two numbers.\n",
        "    Input: a (number), b (number)\n",
        "    Output: Product of a and b\n",
        "    \"\"\"\n",
        "    print(a * b)\n",
        "multiply(2,6)"
      ],
      "metadata": {
        "colab": {
          "base_uri": "https://localhost:8080/"
        },
        "id": "b2QkfzxD1aBy",
        "outputId": "227cfd48-93b5-4731-fdf4-183ef2b5cbc0"
      },
      "execution_count": 11,
      "outputs": [
        {
          "output_type": "stream",
          "name": "stdout",
          "text": [
            "12\n"
          ]
        }
      ]
    },
    {
      "cell_type": "code",
      "source": [
        "def add(a, b):\n",
        "    return a + b\n",
        "sum_result = add(3, 5)  # sum_result gets the value 8\n",
        "print(sum_result)"
      ],
      "metadata": {
        "colab": {
          "base_uri": "https://localhost:8080/"
        },
        "id": "A6qix79K1gE1",
        "outputId": "a327a9e2-2e8e-4994-d889-06aa591d70e4"
      },
      "execution_count": 13,
      "outputs": [
        {
          "output_type": "stream",
          "name": "stdout",
          "text": [
            "8\n"
          ]
        }
      ]
    },
    {
      "cell_type": "code",
      "source": [
        "# Part 1: Global variable declaration\n",
        "global_variable = \"I'm global\"\n",
        "# Part 2: Function definition\n",
        "def example_function():\n",
        "    local_variable = \"I'm local\"\n",
        "    print(global_variable)  # Accessing global variable\n",
        "    print(local_variable)   # Accessing local variable\n",
        "# Part 3: Function call\n",
        "print(global_variable)  # Accessible outside the function\n",
        "# Part 5: Attempting to access local variable outside the function\n",
        " # print(local_variable)  # Error, local variable not visible here"
      ],
      "metadata": {
        "colab": {
          "base_uri": "https://localhost:8080/"
        },
        "id": "KKnfFDSa11w7",
        "outputId": "e9ffa2e0-fcec-4e64-85f3-21c53ce4251a"
      },
      "execution_count": 16,
      "outputs": [
        {
          "output_type": "stream",
          "name": "stdout",
          "text": [
            "I'm global\n"
          ]
        }
      ]
    },
    {
      "cell_type": "code",
      "source": [
        "# Functions and loops together\n",
        "def print_numbers(limit):\n",
        "    for i in range(1, limit+1):\n",
        "        print(i)\n",
        "print_numbers(5)  # Output: 1 2 3 4 5"
      ],
      "metadata": {
        "colab": {
          "base_uri": "https://localhost:8080/"
        },
        "id": "oFNQWedr2p10",
        "outputId": "3dad485b-24a5-4af2-cba2-70f643573074"
      },
      "execution_count": 17,
      "outputs": [
        {
          "output_type": "stream",
          "name": "stdout",
          "text": [
            "1\n",
            "2\n",
            "3\n",
            "4\n",
            "5\n"
          ]
        }
      ]
    },
    {
      "cell_type": "code",
      "source": [
        "# Enhancing code organization and reusability\n",
        "def greet(name):\n",
        "    return \"Hello, \" + name\n",
        "for _ in range(3):\n",
        "    print(greet(\"Alice\"))\n"
      ],
      "metadata": {
        "colab": {
          "base_uri": "https://localhost:8080/"
        },
        "id": "Ae4i5zCM2z93",
        "outputId": "2a999ebb-f9e5-4def-911b-a1824ed86b28"
      },
      "execution_count": 18,
      "outputs": [
        {
          "output_type": "stream",
          "name": "stdout",
          "text": [
            "Hello, Alice\n",
            "Hello, Alice\n",
            "Hello, Alice\n"
          ]
        }
      ]
    },
    {
      "cell_type": "code",
      "source": [
        "# Modifying data structure using functions\n",
        "# Part 1: Initialize an empty list\n",
        "# Define an empty list as the initial data structure\n",
        "my_list = []\n",
        "# Part 2: Define a function to add elements\n",
        "# Function to add an element to the list\n",
        "def add_element(data_structure, element):\n",
        "    data_structure.append(element)\n",
        " # Part 3: Define a function to remove elements\n",
        " # Function to remove an element from the list\n",
        "def remove_element(data_structure, element):\n",
        "    if element in data_structure:\n",
        "        data_structure.remove(element)\n",
        "    else:\n",
        "        print(f\"{element} not found in the list.\")\n",
        " # Part 4: Add elements to the list\n",
        " # Add elements to the list using the add_element function\n",
        "add_element(my_list, 42)\n",
        "add_element(my_list, 17)\n",
        "add_element(my_list, 99)\n",
        "# Part 5: Print the current list\n",
        "# Print the current list\n",
        "print(\"Current list:\", my_list)\n"
      ],
      "metadata": {
        "colab": {
          "base_uri": "https://localhost:8080/"
        },
        "id": "oQky-8-H29SM",
        "outputId": "24c3cb0f-3ffe-4b01-f9bf-af4a56c74c2f"
      },
      "execution_count": 21,
      "outputs": [
        {
          "output_type": "stream",
          "name": "stdout",
          "text": [
            "Current list: [42, 17, 99]\n"
          ]
        }
      ]
    },
    {
      "cell_type": "code",
      "source": [
        "# Part 6: Remove elements from the list\n",
        "# Remove an element from the list using the remove_element function\n",
        "remove_element(my_list, 17)\n",
        "remove_element(my_list, 55)  # This will print a message since 55 is not in the list"
      ],
      "metadata": {
        "colab": {
          "base_uri": "https://localhost:8080/"
        },
        "id": "B-Jwt8524MEb",
        "outputId": "cb737042-8517-4fdd-cf82-6fecd0c2a263"
      },
      "execution_count": 22,
      "outputs": [
        {
          "output_type": "stream",
          "name": "stdout",
          "text": [
            "55 not found in the list.\n"
          ]
        }
      ]
    },
    {
      "cell_type": "code",
      "source": [
        "# Part 7: Print the updated list\n",
        "# Print the updated list\n",
        "print(\"Updated list:\", my_list)"
      ],
      "metadata": {
        "colab": {
          "base_uri": "https://localhost:8080/"
        },
        "id": "XlWdB1Vm4Vv_",
        "outputId": "c5f5bfec-c346-49a2-f492-80fd3b64d05a"
      },
      "execution_count": 23,
      "outputs": [
        {
          "output_type": "stream",
          "name": "stdout",
          "text": [
            "Updated list: [42, 99]\n"
          ]
        }
      ]
    }
  ]
}