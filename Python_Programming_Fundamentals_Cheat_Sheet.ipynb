{
  "nbformat": 4,
  "nbformat_minor": 0,
  "metadata": {
    "colab": {
      "provenance": []
    },
    "kernelspec": {
      "name": "python3",
      "display_name": "Python 3"
    },
    "language_info": {
      "name": "python"
    }
  },
  "cells": [
    {
      "cell_type": "code",
      "execution_count": 1,
      "metadata": {
        "colab": {
          "base_uri": "https://localhost:8080/"
        },
        "id": "0PF87pghYHDC",
        "outputId": "438f0aec-3e00-46f7-9d15-8dfda39dec9c"
      },
      "outputs": [
        {
          "output_type": "stream",
          "name": "stdout",
          "text": [
            "qualify for honors\n"
          ]
        }
      ],
      "source": [
        "marks = 90\n",
        "attendance_percentage = 87\n",
        "if marks >= 80 and attendance_percentage >= 85:\n",
        "    print(\"qualify for honors\")\n",
        "else:\n",
        "    print(\"Not qualified for honors\")\n",
        "# Output = qualify for honors"
      ]
    },
    {
      "cell_type": "code",
      "source": [
        "class Person:\n",
        "    def __init__(self, name, age):\n",
        "        self.name = name\n",
        "        self.age = age"
      ],
      "metadata": {
        "id": "m9r0cJe_dsTE"
      },
      "execution_count": 2,
      "outputs": []
    },
    {
      "cell_type": "code",
      "source": [
        "quantity = 105\n",
        "minimum = 100\n",
        "quantity >= minimum"
      ],
      "metadata": {
        "colab": {
          "base_uri": "https://localhost:8080/"
        },
        "id": "f8_F1tH_f93V",
        "outputId": "b5222efa-df81-413e-ae79-648ef0e34813"
      },
      "execution_count": 3,
      "outputs": [
        {
          "output_type": "execute_result",
          "data": {
            "text/plain": [
              "True"
            ]
          },
          "metadata": {},
          "execution_count": 3
        }
      ]
    },
    {
      "cell_type": "code",
      "source": [
        "age = 20\n",
        "max_age = 25\n",
        "age > max_age"
      ],
      "metadata": {
        "colab": {
          "base_uri": "https://localhost:8080/"
        },
        "id": "Qbvt6TxKgCoH",
        "outputId": "d8d42318-0b4a-47e4-fec8-a24f8b5cb391"
      },
      "execution_count": 4,
      "outputs": [
        {
          "output_type": "execute_result",
          "data": {
            "text/plain": [
              "False"
            ]
          },
          "metadata": {},
          "execution_count": 4
        }
      ]
    },
    {
      "cell_type": "code",
      "source": [
        "temperature = 40\n",
        "if temperature > 30:\n",
        "    print(\"It's a hot day!\")\n"
      ],
      "metadata": {
        "colab": {
          "base_uri": "https://localhost:8080/"
        },
        "id": "eLZxkoDCgII3",
        "outputId": "8ce54670-c556-4e55-a4c8-093e326b6c7b"
      },
      "execution_count": 7,
      "outputs": [
        {
          "output_type": "stream",
          "name": "stdout",
          "text": [
            "It's a hot day!\n"
          ]
        }
      ]
    },
    {
      "cell_type": "code",
      "source": [
        "score = 85  # Example score\n",
        "if score >= 90:\n",
        "    print(\"You got an A!\")\n",
        "elif score >= 80:\n",
        "    print(\"You got a B.\")\n",
        "else:\n",
        "    print(\"You need to work harder.\")\n",
        "# Output = You got a B."
      ],
      "metadata": {
        "colab": {
          "base_uri": "https://localhost:8080/"
        },
        "id": "-g2sgN5Yga59",
        "outputId": "76a43e64-0fb4-4e54-83ad-a56dd4fc7584"
      },
      "execution_count": 8,
      "outputs": [
        {
          "output_type": "stream",
          "name": "stdout",
          "text": [
            "You got a B.\n"
          ]
        }
      ]
    },
    {
      "cell_type": "code",
      "source": [
        "if age >= 18:\n",
        "    print(\"You're an adult.\")\n",
        "else:\n",
        "    print(\"You're not an adult yet.\")"
      ],
      "metadata": {
        "colab": {
          "base_uri": "https://localhost:8080/"
        },
        "id": "Oz8OxXEGgeg5",
        "outputId": "220b3e43-15b1-4ac9-ca25-329fdc7cd2a6"
      },
      "execution_count": 9,
      "outputs": [
        {
          "output_type": "stream",
          "name": "stdout",
          "text": [
            "You're an adult.\n"
          ]
        }
      ]
    },
    {
      "cell_type": "code",
      "source": [
        "if age >= 18:\n",
        "    print(\"You're an adult.\")\n",
        "else:\n",
        "    print(\"You're not an adult yet.\")"
      ],
      "metadata": {
        "colab": {
          "base_uri": "https://localhost:8080/"
        },
        "id": "IzDA_NuwgilV",
        "outputId": "52f89f82-ea5a-47ee-af3f-078a1edff6c0"
      },
      "execution_count": 10,
      "outputs": [
        {
          "output_type": "stream",
          "name": "stdout",
          "text": [
            "You're an adult.\n"
          ]
        }
      ]
    }
  ]
}