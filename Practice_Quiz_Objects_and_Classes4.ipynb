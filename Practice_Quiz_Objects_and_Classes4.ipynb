{
  "nbformat": 4,
  "nbformat_minor": 0,
  "metadata": {
    "colab": {
      "provenance": []
    },
    "kernelspec": {
      "name": "python3",
      "display_name": "Python 3"
    },
    "language_info": {
      "name": "python"
    }
  },
  "cells": [
    {
      "cell_type": "code",
      "source": [
        "class Circle(object):\n",
        "    # Constructor\n",
        "    def __init__(self, radius=3, color='blue'):\n",
        "        self.radius = radius\n",
        "        self.color = color\n",
        "\n",
        "    # Method\n",
        "    def add_radius(self, r):\n",
        "        self.radius = self.radius + r\n",
        "        return self.radius\n",
        "C1 = Circle(4, 'yellow')\n"
      ],
      "metadata": {
        "id": "xL5jVvmFQ3L-"
      },
      "execution_count": 2,
      "outputs": []
    },
    {
      "cell_type": "code",
      "source": [
        "class Circle(object):\n",
        "    def __init__(self, radius=3, color='blue'):\n",
        "        self.radius = radius\n",
        "        self.color = color\n",
        "\n",
        "    def add_radius(self, r):\n",
        "        self.radius = self.radius + r\n",
        "        return self.radius\n",
        "CircleObject = Circle()\n",
        "CircleObject.radius = 10\n"
      ],
      "metadata": {
        "id": "DXMiSU5URVPk"
      },
      "execution_count": 3,
      "outputs": []
    },
    {
      "cell_type": "code",
      "source": [
        "class Vehicle:\n",
        "    color = \"white\"\n",
        "\n",
        "    def __init__(self, max_speed, mileage):\n",
        "        self.max_speed = max_speed\n",
        "        self.mileage = mileage\n",
        "        self.seating_capacity = None\n",
        "\n",
        "    def assign_seating_capacity(self, seating_capacity):\n",
        "        self.seating_capacity = seating_capacity\n",
        "V1 = Vehicle(150, 25)\n",
        "V1.color = \"red\"\n"
      ],
      "metadata": {
        "id": "FbUr4sP-RzjT"
      },
      "execution_count": 4,
      "outputs": []
    },
    {
      "cell_type": "code",
      "source": [
        "class Vehicle:\n",
        "    color = \"white\"\n",
        "\n",
        "    def __init__(self, max_speed, mileage):\n",
        "        self.max_speed = max_speed\n",
        "        self.mileage = mileage\n",
        "        self.seating_capacity = None\n",
        "\n",
        "    def assign_seating_capacity(self, seating_capacity):\n",
        "        self.seating_capacity = seating_capacity\n",
        "V2 = Vehicle(200, 20)\n",
        "V2.assign_seating_capacity(5)\n",
        "V2.color = \"red\"\n",
        "V2 = Vehicle(200, 20)\n",
        "V2.assign_seating_capacity(5)\n",
        "V2.color = \"red\"\n"
      ],
      "metadata": {
        "id": "IuU63xTISRBr"
      },
      "execution_count": 5,
      "outputs": []
    },
    {
      "cell_type": "code",
      "source": [
        "class Graph():\n",
        "    def __init__(self, id):\n",
        "        self.id = id      # step 1\n",
        "        self.id = 80      # step 2 (overwrites the first value)\n",
        "val = Graph(200)\n",
        "print(val.id)\n"
      ],
      "metadata": {
        "colab": {
          "base_uri": "https://localhost:8080/"
        },
        "id": "akX9RQKpSvCP",
        "outputId": "d6f0f0c7-6e78-4e7d-b248-961c67830f79"
      },
      "execution_count": 6,
      "outputs": [
        {
          "output_type": "stream",
          "name": "stdout",
          "text": [
            "80\n"
          ]
        }
      ]
    }
  ]
}