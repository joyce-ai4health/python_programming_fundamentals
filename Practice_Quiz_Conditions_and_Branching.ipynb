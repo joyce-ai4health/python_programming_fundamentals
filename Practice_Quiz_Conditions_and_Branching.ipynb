{
  "nbformat": 4,
  "nbformat_minor": 0,
  "metadata": {
    "colab": {
      "provenance": []
    },
    "kernelspec": {
      "name": "python3",
      "display_name": "Python 3"
    },
    "language_info": {
      "name": "python"
    }
  },
  "cells": [
    {
      "cell_type": "code",
      "execution_count": 2,
      "metadata": {
        "colab": {
          "base_uri": "https://localhost:8080/"
        },
        "id": "XwPlgvdtauyI",
        "outputId": "06f99205-3e02-4bcc-a2b0-0e8ebfa90d80"
      },
      "outputs": [
        {
          "output_type": "stream",
          "name": "stdout",
          "text": [
            "Let's pick a movie to watch!\n"
          ]
        }
      ],
      "source": [
        "friend1_likes_comedy = True\n",
        "friend2_likes_action = False\n",
        "friend3_likes_drama = False\n",
        "\n",
        "# define the function\n",
        "def choose_a_movie():\n",
        "    print(\"Let's pick a movie to watch!\")\n",
        "\n",
        "# check if at least one friend likes a genre\n",
        "if friend1_likes_comedy or friend2_likes_action or friend3_likes_drama:\n",
        "    choose_a_movie()\n"
      ]
    },
    {
      "cell_type": "code",
      "source": [
        "1=2"
      ],
      "metadata": {
        "colab": {
          "base_uri": "https://localhost:8080/",
          "height": 110
        },
        "id": "lL_MKlWGcw42",
        "outputId": "98ee759c-38b0-4e45-bbf3-0cdbbdbab493"
      },
      "execution_count": 3,
      "outputs": [
        {
          "output_type": "error",
          "ename": "SyntaxError",
          "evalue": "cannot assign to literal here. Maybe you meant '==' instead of '='? (ipython-input-3293032332.py, line 1)",
          "traceback": [
            "\u001b[0;36m  File \u001b[0;32m\"/tmp/ipython-input-3293032332.py\"\u001b[0;36m, line \u001b[0;32m1\u001b[0m\n\u001b[0;31m    1=2\u001b[0m\n\u001b[0m    ^\u001b[0m\n\u001b[0;31mSyntaxError\u001b[0m\u001b[0;31m:\u001b[0m cannot assign to literal here. Maybe you meant '==' instead of '='?\n"
          ]
        }
      ]
    },
    {
      "cell_type": "code",
      "source": [
        "i=6\n",
        "\n",
        "i<5"
      ],
      "metadata": {
        "colab": {
          "base_uri": "https://localhost:8080/"
        },
        "id": "-SdncqxHdHvE",
        "outputId": "445bda61-1bde-4f96-b909-1ef90b0d7e2f"
      },
      "execution_count": 4,
      "outputs": [
        {
          "output_type": "execute_result",
          "data": {
            "text/plain": [
              "False"
            ]
          },
          "metadata": {},
          "execution_count": 4
        }
      ]
    },
    {
      "cell_type": "code",
      "source": [
        "'a' == 'A'\n"
      ],
      "metadata": {
        "colab": {
          "base_uri": "https://localhost:8080/"
        },
        "id": "FbV08xy1dOLV",
        "outputId": "ebb335ed-779e-4163-bc63-f1bf550f5f31"
      },
      "execution_count": 6,
      "outputs": [
        {
          "output_type": "execute_result",
          "data": {
            "text/plain": [
              "False"
            ]
          },
          "metadata": {},
          "execution_count": 6
        }
      ]
    }
  ]
}