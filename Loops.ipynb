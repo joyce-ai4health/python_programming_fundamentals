{
  "nbformat": 4,
  "nbformat_minor": 0,
  "metadata": {
    "colab": {
      "provenance": []
    },
    "kernelspec": {
      "name": "python3",
      "display_name": "Python 3"
    },
    "language_info": {
      "name": "python"
    }
  },
  "cells": [
    {
      "cell_type": "code",
      "execution_count": null,
      "metadata": {
        "colab": {
          "base_uri": "https://localhost:8080/"
        },
        "id": "rP9APqBygiz7",
        "outputId": "4d97c5b7-7dae-46ee-a31b-86a6c309ee73"
      },
      "outputs": [
        {
          "output_type": "stream",
          "name": "stdout",
          "text": [
            "['white', 'white', 'white', 'white', 'white']\n"
          ]
        }
      ],
      "source": [
        "list_squares = [\"red\",\"yellow\",\"green\",\"purple\",\"blue\"]\n",
        "\n",
        "for i in range(0,5):\n",
        "    list_squares[i] = \"white\"\n",
        "\n",
        "print(list_squares)\n"
      ]
    },
    {
      "cell_type": "code",
      "source": [
        "squares = [\"red\",\"yellow\",\"green\"]\n",
        "\n",
        "for i, square in enumerate(squares):\n",
        "    print(f\"Index {i}: {square}\")\n"
      ],
      "metadata": {
        "colab": {
          "base_uri": "https://localhost:8080/"
        },
        "id": "gvxfQ_fdiasS",
        "outputId": "75afde96-40b2-4f94-8aad-f299195a4f6d"
      },
      "execution_count": null,
      "outputs": [
        {
          "output_type": "stream",
          "name": "stdout",
          "text": [
            "Index 0: red\n",
            "Index 1: yellow\n",
            "Index 2: green\n"
          ]
        }
      ]
    },
    {
      "cell_type": "code",
      "source": [
        "squares = [\"orange\",\"purple\",\"orange\",\"blue\"]\n",
        "Newsquares = []\n",
        "i = 0\n",
        "while (squares[i] == \"orange\"):\n",
        "  Newsquares.append(squares[i])\n",
        "  i = i + 1\n",
        "  print(Newsquares)"
      ],
      "metadata": {
        "colab": {
          "base_uri": "https://localhost:8080/"
        },
        "id": "3qDBC7O0yf0u",
        "outputId": "be3bf712-0af1-4b69-9540-91486477eb76"
      },
      "execution_count": 6,
      "outputs": [
        {
          "output_type": "stream",
          "name": "stdout",
          "text": [
            "['orange']\n"
          ]
        }
      ]
    },
    {
      "cell_type": "code",
      "source": [
        "colors = [\"red\", \"orange\", \"yellow\", \"green\", \"blue\", \"indigo\", \"violet\"]\n",
        "\n",
        "for color in colors:\n",
        "    print(color)\n"
      ],
      "metadata": {
        "colab": {
          "base_uri": "https://localhost:8080/"
        },
        "id": "MxaKFTkzUTp0",
        "outputId": "ea80650d-bdfa-4a87-c4ce-98341f8a8997"
      },
      "execution_count": 3,
      "outputs": [
        {
          "output_type": "stream",
          "name": "stdout",
          "text": [
            "red\n",
            "orange\n",
            "yellow\n",
            "green\n",
            "blue\n",
            "indigo\n",
            "violet\n"
          ]
        }
      ]
    },
    {
      "cell_type": "code",
      "source": [
        "for number in range(1, 11):\n",
        "    print(number)"
      ],
      "metadata": {
        "colab": {
          "base_uri": "https://localhost:8080/"
        },
        "id": "zJ1E9fFEVOQg",
        "outputId": "2bcf931b-d03b-4bae-9c89-cde0a3ec1aaa"
      },
      "execution_count": 4,
      "outputs": [
        {
          "output_type": "stream",
          "name": "stdout",
          "text": [
            "1\n",
            "2\n",
            "3\n",
            "4\n",
            "5\n",
            "6\n",
            "7\n",
            "8\n",
            "9\n",
            "10\n"
          ]
        }
      ]
    },
    {
      "cell_type": "code",
      "source": [
        "for number in range(11):\n",
        "    print(number)"
      ],
      "metadata": {
        "colab": {
          "base_uri": "https://localhost:8080/"
        },
        "id": "_TlXhP8FW0S_",
        "outputId": "cd0b501e-9f06-410c-e183-d020803fc97e"
      },
      "execution_count": 5,
      "outputs": [
        {
          "output_type": "stream",
          "name": "stdout",
          "text": [
            "0\n",
            "1\n",
            "2\n",
            "3\n",
            "4\n",
            "5\n",
            "6\n",
            "7\n",
            "8\n",
            "9\n",
            "10\n"
          ]
        }
      ]
    },
    {
      "cell_type": "code",
      "source": [
        "fruits = [\"apple\", \"banana\", \"orange\"]\n",
        "for index, fruit in enumerate(fruits):\n",
        "    print(f\"At position {index}, I found a {fruit}\")"
      ],
      "metadata": {
        "colab": {
          "base_uri": "https://localhost:8080/"
        },
        "id": "6Tmxu4YBYw79",
        "outputId": "61be1456-a05b-41b8-e169-fb4af30526c6"
      },
      "execution_count": 6,
      "outputs": [
        {
          "output_type": "stream",
          "name": "stdout",
          "text": [
            "At position 0, I found a apple\n",
            "At position 1, I found a banana\n",
            "At position 2, I found a orange\n"
          ]
        }
      ]
    },
    {
      "cell_type": "code",
      "source": [
        "fruits = [\"apple\", \"banana\", \"orange\"]\n",
        "\n",
        "for index, fruit in enumerate(fruits):\n",
        "    # check first letter\n",
        "    if fruit[0].lower() in \"aeiou\":\n",
        "        article = \"an\"\n",
        "    else:\n",
        "        article = \"a\"\n",
        "\n",
        "    print(f\"At position {index}, I found {article} {fruit}\")\n"
      ],
      "metadata": {
        "colab": {
          "base_uri": "https://localhost:8080/"
        },
        "id": "ZsZSbmlFajsK",
        "outputId": "1c4a9b57-a5d2-4ce0-8e25-f142235f7170"
      },
      "execution_count": 7,
      "outputs": [
        {
          "output_type": "stream",
          "name": "stdout",
          "text": [
            "At position 0, I found an apple\n",
            "At position 1, I found a banana\n",
            "At position 2, I found an orange\n"
          ]
        }
      ]
    },
    {
      "cell_type": "code",
      "source": [
        "count = 1\n",
        "while count <= 10:\n",
        "    print(count)\n",
        "    count += 1"
      ],
      "metadata": {
        "colab": {
          "base_uri": "https://localhost:8080/"
        },
        "id": "vubbwiYdcKAZ",
        "outputId": "285b3441-5aff-4b33-cc66-436db1381096"
      },
      "execution_count": 8,
      "outputs": [
        {
          "output_type": "stream",
          "name": "stdout",
          "text": [
            "1\n",
            "2\n",
            "3\n",
            "4\n",
            "5\n",
            "6\n",
            "7\n",
            "8\n",
            "9\n",
            "10\n"
          ]
        }
      ]
    }
  ]
}