{
  "nbformat": 4,
  "nbformat_minor": 0,
  "metadata": {
    "colab": {
      "provenance": []
    },
    "kernelspec": {
      "name": "python3",
      "display_name": "Python 3"
    },
    "language_info": {
      "name": "python"
    }
  },
  "cells": [
    {
      "cell_type": "code",
      "execution_count": 3,
      "metadata": {
        "colab": {
          "base_uri": "https://localhost:8080/"
        },
        "id": "hDnbgri6g8M7",
        "outputId": "7fa3bd69-2aeb-484b-809b-49f680eaf787"
      },
      "outputs": [
        {
          "output_type": "stream",
          "name": "stdout",
          "text": [
            "you may enter\n",
            "move on\n"
          ]
        }
      ],
      "source": [
        "age = 20   # define the variable first\n",
        "\n",
        "if age > 18:\n",
        "    print(\"you may enter\")\n",
        "    print(\"move on\")\n",
        "\n"
      ]
    },
    {
      "cell_type": "code",
      "source": [
        "age = 15\n",
        "if age > 18:\n",
        "    print(\"you may enter\")\n",
        "    print(\"move on\")"
      ],
      "metadata": {
        "id": "3w3yAb8uiBTV"
      },
      "execution_count": 6,
      "outputs": []
    },
    {
      "cell_type": "code",
      "source": [
        "if (age>18):\n",
        "  print(\"you may enter\")\n",
        "else:\n",
        "    print(\"go see the meat loaf\")\n",
        "    print(\"move on\")"
      ],
      "metadata": {
        "colab": {
          "base_uri": "https://localhost:8080/"
        },
        "id": "TUBEJBMNi1Bd",
        "outputId": "97204831-fd82-47cf-9c53-75cdca7c66f9"
      },
      "execution_count": 8,
      "outputs": [
        {
          "output_type": "stream",
          "name": "stdout",
          "text": [
            "go see the meat loaf\n",
            "move on\n"
          ]
        }
      ]
    },
    {
      "cell_type": "code",
      "source": [
        "age = 18\n",
        "if(age>18):\n",
        "  print(\"you may enter\")\n",
        "elif(age==18):\n",
        "  print(\"go see pink floyd\")\n",
        "else:\n",
        "  print(\"go see meat loaf\")\n",
        "  print(\"move on\")"
      ],
      "metadata": {
        "colab": {
          "base_uri": "https://localhost:8080/"
        },
        "id": "ZXIj-I78kT39",
        "outputId": "19711d91-3a2a-4b29-87b1-2116ca54e422"
      },
      "execution_count": 10,
      "outputs": [
        {
          "output_type": "stream",
          "name": "stdout",
          "text": [
            "go see pink floyd\n"
          ]
        }
      ]
    },
    {
      "cell_type": "code",
      "source": [
        "album_year = 1990\n",
        "if(album_year<1980) or (album_year>1989):\n",
        "  print(\"This album was made in the 70's or 90's\")\n",
        "else:\n",
        "  print(\"This album was made in 1980's\")"
      ],
      "metadata": {
        "colab": {
          "base_uri": "https://localhost:8080/"
        },
        "id": "QXupr_7BtEde",
        "outputId": "4b9d1bb4-9ccb-4280-e3f6-3e5af718b1f1"
      },
      "execution_count": 11,
      "outputs": [
        {
          "output_type": "stream",
          "name": "stdout",
          "text": [
            "This album was made in the 70's or 90's\n"
          ]
        }
      ]
    },
    {
      "cell_type": "code",
      "source": [
        "album_year = 1983\n",
        "if(album_year>1979) and (album_year<1990):\n",
        "  print(\"This album was made in the 80's\")"
      ],
      "metadata": {
        "colab": {
          "base_uri": "https://localhost:8080/"
        },
        "id": "yJR13XpNvDHi",
        "outputId": "7cca077d-260f-4401-c708-95836d087b84"
      },
      "execution_count": 13,
      "outputs": [
        {
          "output_type": "stream",
          "name": "stdout",
          "text": [
            "This album was made in the 80's\n"
          ]
        }
      ]
    }
  ]
}