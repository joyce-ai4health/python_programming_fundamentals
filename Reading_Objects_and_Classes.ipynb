{
  "nbformat": 4,
  "nbformat_minor": 0,
  "metadata": {
    "colab": {
      "provenance": []
    },
    "kernelspec": {
      "name": "python3",
      "display_name": "Python 3"
    },
    "language_info": {
      "name": "python"
    }
  },
  "cells": [
    {
      "cell_type": "code",
      "source": [
        "class Dog:\n",
        "    species = \"Canis lupus\"  # class attribute\n",
        "\n",
        "# Instances\n",
        "dog1 = Dog()\n",
        "dog2 = Dog()\n",
        "\n",
        "print(dog1.species)  # Canis lupus\n",
        "print(dog2.species)  # Canis lupus\n",
        "\n",
        "# Modifying class attribute\n",
        "Dog.species = \"Canis familiaris\"\n",
        "print(dog1.species)  # Canis familiaris\n",
        "print(dog2.species)  # Canis familiaris\n"
      ],
      "metadata": {
        "colab": {
          "base_uri": "https://localhost:8080/"
        },
        "id": "_0tvL3HVUaTi",
        "outputId": "dc5e7d5b-ed16-4c13-a03a-bba9438492e9"
      },
      "execution_count": 8,
      "outputs": [
        {
          "output_type": "stream",
          "name": "stdout",
          "text": [
            "Canis lupus\n",
            "Canis lupus\n",
            "Canis familiaris\n",
            "Canis familiaris\n"
          ]
        }
      ]
    },
    {
      "cell_type": "code",
      "source": [
        "class Dog:\n",
        "    # Class attribute\n",
        "    species = \"Canis lupus\"\n",
        "\n",
        "    # Constructor\n",
        "    def __init__(self, name, age):\n",
        "        self.name = name      # Instance attribute\n",
        "        self.age = age        # Instance attribute\n",
        "\n",
        "# Creating instances\n",
        "dog1 = Dog(\"Buddy\", 3)\n",
        "dog2 = Dog(\"Lucy\", 5)\n",
        "\n",
        "# Accessing attributes\n",
        "print(dog1.name, dog1.age, dog1.species)  # Buddy 3 Canis lupus\n",
        "print(dog2.name, dog2.age, dog2.species)  # Lucy 5 Canis lupus\n"
      ],
      "metadata": {
        "colab": {
          "base_uri": "https://localhost:8080/"
        },
        "id": "P5t1rqZVUlFf",
        "outputId": "3a4f97ee-a88a-4b0e-8ba8-b651d84cba02"
      },
      "execution_count": 9,
      "outputs": [
        {
          "output_type": "stream",
          "name": "stdout",
          "text": [
            "Buddy 3 Canis lupus\n",
            "Lucy 5 Canis lupus\n"
          ]
        }
      ]
    },
    {
      "cell_type": "code",
      "source": [
        "class Car:\n",
        "    # Class attribute (shared by all instances)\n",
        "    wheels = 4\n",
        "\n",
        "    # Constructor (initialize instance attributes)\n",
        "    def __init__(self, make, model, year):\n",
        "        self.make = make      # Instance attribute\n",
        "        self.model = model    # Instance attribute\n",
        "        self.year = year      # Instance attribute\n",
        "\n",
        "# Creating instances\n",
        "car1 = Car(\"Toyota\", \"Camry\", 2020)\n",
        "car2 = Car(\"Honda\", \"Civic\", 2022)\n",
        "\n",
        "# Accessing attributes\n",
        "print(car1.make, car1.model, car1.year, car1.wheels)  # Toyota Camry 2020 4\n",
        "print(car2.make, car2.model, car2.year, car2.wheels)  # Honda Civic 2022 4\n",
        "\n",
        "# Modifying class attribute\n",
        "Car.wheels = 6\n",
        "print(car1.wheels)  # 6\n",
        "print(car2.wheels)  # 6\n",
        "\n",
        "# Modifying instance attribute\n",
        "car1.year = 2021\n",
        "print(car1.year)  # 2021\n",
        "print(car2.year)  # 2022\n"
      ],
      "metadata": {
        "colab": {
          "base_uri": "https://localhost:8080/"
        },
        "id": "54jLVmMJUtLr",
        "outputId": "344678e5-c601-470f-f134-63ce445d96c3"
      },
      "execution_count": 10,
      "outputs": [
        {
          "output_type": "stream",
          "name": "stdout",
          "text": [
            "Toyota Camry 2020 4\n",
            "Honda Civic 2022 4\n",
            "6\n",
            "6\n",
            "2021\n",
            "2022\n"
          ]
        }
      ]
    },
    {
      "cell_type": "code",
      "source": [
        "class Dog:\n",
        "    species = \"Canis lupus\"  # Class attribute\n",
        "\n",
        "    def __init__(self, name, age):\n",
        "        self.name = name      # Instance attribute\n",
        "        self.age = age        # Instance attribute\n",
        "\n",
        "    def description(self):\n",
        "        return f\"{self.name} is {self.age} years old.\"\n",
        "\n",
        "    def speak(self, sound):\n",
        "        return f\"{self.name} says {sound}\"\n",
        "\n",
        "# Create instances\n",
        "dog1 = Dog(\"Buddy\", 3)\n",
        "dog2 = Dog(\"Lucy\", 5)\n",
        "\n",
        "# Access instance attributes and methods\n",
        "print(dog1.description())  # Buddy is 3 years old.\n",
        "print(dog2.speak(\"Woof\"))  # Lucy says Woof\n",
        "\n",
        "# Access class attribute\n",
        "print(dog1.species)  # Canis lupus\n",
        "print(dog2.species)  # Canis lupus\n"
      ],
      "metadata": {
        "colab": {
          "base_uri": "https://localhost:8080/"
        },
        "id": "nQoIZefeUuY7",
        "outputId": "3e60929d-493d-49ec-e8e3-2c643f67e1e8"
      },
      "execution_count": 11,
      "outputs": [
        {
          "output_type": "stream",
          "name": "stdout",
          "text": [
            "Buddy is 3 years old.\n",
            "Lucy says Woof\n",
            "Canis lupus\n",
            "Canis lupus\n"
          ]
        }
      ]
    },
    {
      "cell_type": "code",
      "source": [
        "class Dog:\n",
        "    species = \"Canis lupus\"  # Class attribute\n",
        "\n",
        "    def __init__(self, name, age):\n",
        "        self.name = name  # Instance attribute\n",
        "        self.age = age    # Instance attribute\n",
        "\n",
        "    def description(self):\n",
        "        return f\"{self.name} is {self.age} years old.\"\n",
        "\n",
        "    def speak(self, sound):\n",
        "        return f\"{self.name} says {sound}\"\n",
        "\n",
        "# Create instances\n",
        "dog1 = Dog(\"Buddy\", 3)\n",
        "dog2 = Dog(\"Lucy\", 5)\n",
        "\n",
        "# Call methods\n",
        "print(dog1.description())  # Buddy is 3 years old.\n",
        "print(dog2.speak(\"Woof\"))  # Lucy says Woof\n",
        "\n",
        "# Access class attribute\n",
        "print(dog1.species)  # Canis lupus\n",
        "print(dog2.species)  # Canis lupus\n"
      ],
      "metadata": {
        "colab": {
          "base_uri": "https://localhost:8080/"
        },
        "id": "8iu-QP1PU0xt",
        "outputId": "e1f91812-8464-4573-fe26-b2ae03cc07bc"
      },
      "execution_count": 12,
      "outputs": [
        {
          "output_type": "stream",
          "name": "stdout",
          "text": [
            "Buddy is 3 years old.\n",
            "Lucy says Woof\n",
            "Canis lupus\n",
            "Canis lupus\n"
          ]
        }
      ]
    },
    {
      "cell_type": "code",
      "source": [
        "class Dog:\n",
        "    species = \"Canis lupus\"  # Class attribute\n",
        "\n",
        "    def __init__(self, name, age):\n",
        "        self.name = name  # Instance attribute\n",
        "        self.age = age    # Instance attribute\n",
        "\n",
        "    def description(self):\n",
        "        return f\"{self.name} is {self.age} years old.\"\n",
        "\n",
        "    def speak(self, sound):\n",
        "        return f\"{self.name} says {sound}\"\n",
        "\n",
        "# Create objects (instances)\n",
        "dog1 = Dog(\"Buddy\", 3)\n",
        "dog2 = Dog(\"Lucy\", 5)\n",
        "\n",
        "# Access instance attributes and methods\n",
        "print(dog1.description())  # Buddy is 3 years old.\n",
        "print(dog2.speak(\"Woof\"))  # Lucy says Woof\n",
        "\n",
        "# Access class attribute\n",
        "print(dog1.species)  # Canis lupus\n",
        "print(dog2.species)  # Canis lupus\n"
      ],
      "metadata": {
        "colab": {
          "base_uri": "https://localhost:8080/"
        },
        "id": "0-TkTxniU4xe",
        "outputId": "6d2ce609-a704-4743-dbc1-57cd8f699478"
      },
      "execution_count": 13,
      "outputs": [
        {
          "output_type": "stream",
          "name": "stdout",
          "text": [
            "Buddy is 3 years old.\n",
            "Lucy says Woof\n",
            "Canis lupus\n",
            "Canis lupus\n"
          ]
        }
      ]
    },
    {
      "cell_type": "code",
      "source": [
        "class Dog:\n",
        "    species = \"Canis lupus\"  # Class attribute\n",
        "\n",
        "    def __init__(self, name, age):\n",
        "        self.name = name  # Instance attribute\n",
        "        self.age = age    # Instance attribute\n",
        "\n",
        "    def description(self):\n",
        "        return f\"{self.name} is {self.age} years old.\"\n",
        "\n",
        "    def speak(self, sound):\n",
        "        return f\"{self.name} says {sound}\"\n",
        "\n",
        "# Create objects\n",
        "dog1 = Dog(\"Buddy\", 3)\n",
        "dog2 = Dog(\"Lucy\", 5)\n",
        "\n",
        "# Call methods\n",
        "desc1 = dog1.description()      # Buddy is 3 years old.\n",
        "sound2 = dog2.speak(\"Woof\")    # Lucy says Woof\n",
        "\n",
        "print(desc1)\n",
        "print(sound2)\n"
      ],
      "metadata": {
        "colab": {
          "base_uri": "https://localhost:8080/"
        },
        "id": "DKgugglEU8B2",
        "outputId": "60eb35c9-a666-4bd0-a06e-9d7dbbabb0d0"
      },
      "execution_count": 14,
      "outputs": [
        {
          "output_type": "stream",
          "name": "stdout",
          "text": [
            "Buddy is 3 years old.\n",
            "Lucy says Woof\n"
          ]
        }
      ]
    },
    {
      "cell_type": "code",
      "source": [
        "class Dog:\n",
        "    def __init__(self, name, age):\n",
        "        self.name = name\n",
        "        self.age = age\n",
        "\n",
        "    def description(self, prefix):\n",
        "        return f\"{prefix}: {self.name} is {self.age} years old.\"\n",
        "\n",
        "# Create an object\n",
        "dog1 = Dog(\"Buddy\", 3)\n",
        "\n",
        "# Assign method to a variable\n",
        "desc_method = dog1.description\n",
        "\n",
        "# Call the method using the variable\n",
        "result = desc_method(\"Info\")\n",
        "print(result)  # Info: Buddy is 3 years old.\n"
      ],
      "metadata": {
        "colab": {
          "base_uri": "https://localhost:8080/"
        },
        "id": "jN7FpLm-U_kk",
        "outputId": "ac499754-08b9-4228-d195-bd7ad5bb4038"
      },
      "execution_count": 15,
      "outputs": [
        {
          "output_type": "stream",
          "name": "stdout",
          "text": [
            "Info: Buddy is 3 years old.\n"
          ]
        }
      ]
    },
    {
      "cell_type": "code",
      "source": [
        "class Dog:\n",
        "    def __init__(self, name, age):\n",
        "        self.name = name\n",
        "        self.age = age\n",
        "\n",
        "# Create objects\n",
        "dog1 = Dog(\"Buddy\", 3)\n",
        "dog2 = Dog(\"Lucy\", 5)\n",
        "\n",
        "# Modify an attribute\n",
        "dog1.age = 4  # Change dog1's age\n",
        "\n",
        "print(dog1.age)  # 4\n",
        "print(dog2.age)  # 5 (unchanged)\n"
      ],
      "metadata": {
        "colab": {
          "base_uri": "https://localhost:8080/"
        },
        "id": "4sKMnT8AVDgV",
        "outputId": "0ee235b4-3b77-45ad-b3e4-ca57a07f563f"
      },
      "execution_count": 16,
      "outputs": [
        {
          "output_type": "stream",
          "name": "stdout",
          "text": [
            "4\n",
            "5\n"
          ]
        }
      ]
    }
  ]
}