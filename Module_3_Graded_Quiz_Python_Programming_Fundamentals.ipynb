{
  "nbformat": 4,
  "nbformat_minor": 0,
  "metadata": {
    "colab": {
      "provenance": []
    },
    "kernelspec": {
      "name": "python3",
      "display_name": "Python 3"
    },
    "language_info": {
      "name": "python"
    }
  },
  "cells": [
    {
      "cell_type": "code",
      "execution_count": 3,
      "metadata": {
        "id": "Re44BEd3g5q6",
        "colab": {
          "base_uri": "https://localhost:8080/"
        },
        "outputId": "80a7e281-3339-4669-bbea-a1e8b8823806"
      },
      "outputs": [
        {
          "output_type": "stream",
          "name": "stdout",
          "text": [
            "False\n"
          ]
        }
      ],
      "source": [
        "current_temp = 18\n",
        "current_temp = current_temp > 25\n",
        "print(current_temp)\n"
      ]
    },
    {
      "cell_type": "code",
      "source": [
        "x = 5\n",
        "while x != 2:\n",
        "    print(x)\n",
        "    x = x - 1\n"
      ],
      "metadata": {
        "colab": {
          "base_uri": "https://localhost:8080/"
        },
        "id": "_Q5Dd5Xo1Tar",
        "outputId": "54d0080a-6568-4f2a-f109-8c8dce211723"
      },
      "execution_count": 4,
      "outputs": [
        {
          "output_type": "stream",
          "name": "stdout",
          "text": [
            "5\n",
            "4\n",
            "3\n"
          ]
        }
      ]
    },
    {
      "cell_type": "code",
      "source": [
        "class Points(object):\n",
        "    def __init__(self, x, y):\n",
        "        self.x = x\n",
        "        self.y = y\n",
        "    def print_point(self):\n",
        "        print('x=', self.x, ' y=', self.y)\n",
        "p1 = Points(\"A\", \"B\")\n",
        "p1.print_point()"
      ],
      "metadata": {
        "colab": {
          "base_uri": "https://localhost:8080/"
        },
        "id": "LBYL6Bvd19Sj",
        "outputId": "9d21fab3-d242-4469-9746-03dbf73820e1"
      },
      "execution_count": 5,
      "outputs": [
        {
          "output_type": "stream",
          "name": "stdout",
          "text": [
            "x= A  y= B\n"
          ]
        }
      ]
    },
    {
      "cell_type": "code",
      "source": [
        "for i, x in enumerate(['A', 'B', 'C']):\n",
        "    print(i, 2 * x)"
      ],
      "metadata": {
        "colab": {
          "base_uri": "https://localhost:8080/"
        },
        "id": "QeOt8IM52Efj",
        "outputId": "3521580f-7317-42ec-d2db-b418f4014561"
      },
      "execution_count": 6,
      "outputs": [
        {
          "output_type": "stream",
          "name": "stdout",
          "text": [
            "0 AA\n",
            "1 BB\n",
            "2 CC\n"
          ]
        }
      ]
    },
    {
      "cell_type": "code",
      "source": [
        "class Points(object):\n",
        "    def __init__(self, x, y):\n",
        "        self.x = x\n",
        "        self.y = y\n",
        "    def print_point(self):\n",
        "        print('x=', self.x, ' y=', self.y)\n",
        "p2 = Points(1, 2)\n",
        "p2.x = 'A'\n",
        "p2.print_point()"
      ],
      "metadata": {
        "colab": {
          "base_uri": "https://localhost:8080/"
        },
        "id": "n9bOvf6z2L7n",
        "outputId": "741c0b88-daa7-4540-ecb9-37f170da9197"
      },
      "execution_count": 7,
      "outputs": [
        {
          "output_type": "stream",
          "name": "stdout",
          "text": [
            "x= A  y= 2\n"
          ]
        }
      ]
    },
    {
      "cell_type": "code",
      "source": [
        "def validate_temperature(reading):\n",
        "    if 20 <= reading <= 40:\n",
        "        result = \"Valid\"\n",
        "    else:\n",
        "        result = \"Invalid\"\n",
        "    return result\n",
        "\n",
        "# Call the function and print the result\n",
        "print(validate_temperature(32))\n",
        "\n"
      ],
      "metadata": {
        "colab": {
          "base_uri": "https://localhost:8080/"
        },
        "id": "dYqP5xiD2SK7",
        "outputId": "e5b78109-7542-449d-d1ef-0c020c909e01"
      },
      "execution_count": 10,
      "outputs": [
        {
          "output_type": "stream",
          "name": "stdout",
          "text": [
            "Valid\n"
          ]
        }
      ]
    },
    {
      "cell_type": "code",
      "source": [
        "a = 1\n",
        "def do(x):\n",
        "    a = 100\n",
        "    return x + a\n",
        "print(do(1))"
      ],
      "metadata": {
        "colab": {
          "base_uri": "https://localhost:8080/"
        },
        "id": "I-ANnyeJ28Pz",
        "outputId": "86291559-d5ac-4a01-b868-16a7e3de4aa9"
      },
      "execution_count": 11,
      "outputs": [
        {
          "output_type": "stream",
          "name": "stdout",
          "text": [
            "101\n"
          ]
        }
      ]
    }
  ]
}