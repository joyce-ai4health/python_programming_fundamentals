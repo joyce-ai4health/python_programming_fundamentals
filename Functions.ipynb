{
  "nbformat": 4,
  "nbformat_minor": 0,
  "metadata": {
    "colab": {
      "provenance": []
    },
    "kernelspec": {
      "name": "python3",
      "display_name": "Python 3"
    },
    "language_info": {
      "name": "python"
    }
  },
  "cells": [
    {
      "cell_type": "code",
      "execution_count": null,
      "metadata": {
        "id": "kw8ZBcho6wg6"
      },
      "outputs": [],
      "source": [
        "def function(a):\n",
        "  # add 1 to a #\n",
        "  b = a + 1;\n",
        "  print(a, \"+1   = \", b)\n",
        "  return b"
      ]
    },
    {
      "cell_type": "code",
      "source": [
        "def f1(inpit):\n",
        "  #add 1 to input #\n",
        "  output = input + 1;\n",
        "  return output"
      ],
      "metadata": {
        "id": "nqPF_pCo8hHp"
      },
      "execution_count": null,
      "outputs": []
    },
    {
      "cell_type": "code",
      "source": [
        "def f3(inpit):\n",
        "  #add 2 to input #\n",
        "  output = input + 2;\n",
        "  return output"
      ],
      "metadata": {
        "id": "Hn16LMDP86q2"
      },
      "execution_count": null,
      "outputs": []
    },
    {
      "cell_type": "code",
      "source": [
        "album_ratings = [10.0,8.5,9.5,7.0,7.0,9.5,9.0,9.5]\n",
        "L = len(album_ratings)\n",
        "print(L)"
      ],
      "metadata": {
        "colab": {
          "base_uri": "https://localhost:8080/"
        },
        "id": "WOjINYEE9_UF",
        "outputId": "d6c7251c-14fb-4a67-fa1c-02640b709cad"
      },
      "execution_count": null,
      "outputs": [
        {
          "output_type": "stream",
          "name": "stdout",
          "text": [
            "8\n"
          ]
        }
      ]
    },
    {
      "cell_type": "code",
      "source": [
        "S = sum(album_ratings)\n",
        "print(S)"
      ],
      "metadata": {
        "colab": {
          "base_uri": "https://localhost:8080/"
        },
        "id": "D_VTcvCFoOdz",
        "outputId": "076627dd-8f26-4048-fbd9-82e9e32f65e2"
      },
      "execution_count": null,
      "outputs": [
        {
          "output_type": "stream",
          "name": "stdout",
          "text": [
            "70.0\n"
          ]
        }
      ]
    },
    {
      "cell_type": "code",
      "source": [
        "album_ratings = [10.0,8.5,9.5,7.0,7.0,9.5,9.0,9.5]\n",
        "sorted_album_ratings = sorted(album_ratings)\n",
        "print(sorted_album_ratings)"
      ],
      "metadata": {
        "colab": {
          "base_uri": "https://localhost:8080/"
        },
        "id": "-KQC7gg2qIRl",
        "outputId": "ae50d943-707d-4912-fc83-fae3a8a3410b"
      },
      "execution_count": null,
      "outputs": [
        {
          "output_type": "stream",
          "name": "stdout",
          "text": [
            "[7.0, 7.0, 8.5, 9.0, 9.5, 9.5, 9.5, 10.0]\n"
          ]
        }
      ]
    },
    {
      "cell_type": "code",
      "source": [
        "album_ratings = [10.0,8.5,9.5,7.0,7.0,9.5,9.0,9.5]\n",
        "album_ratings.sort()\n",
        "print(album_ratings)"
      ],
      "metadata": {
        "colab": {
          "base_uri": "https://localhost:8080/"
        },
        "id": "TlH2R3MArPnZ",
        "outputId": "0d2d456d-9c4f-4fd5-c703-24bd627d5040"
      },
      "execution_count": null,
      "outputs": [
        {
          "output_type": "stream",
          "name": "stdout",
          "text": [
            "[7.0, 7.0, 8.5, 9.0, 9.5, 9.5, 9.5, 10.0]\n"
          ]
        }
      ]
    },
    {
      "cell_type": "code",
      "source": [
        "def add1(a):\n",
        "    # Add 1 to a\n",
        "    b = a + 1\n",
        "    print(a, \"+\", 1, \"=\", b)\n",
        "    return b\n",
        "\n",
        "add1(5)\n",
        "\n"
      ],
      "metadata": {
        "colab": {
          "base_uri": "https://localhost:8080/"
        },
        "id": "6B268PkZt0Zs",
        "outputId": "33f5a7e1-0d89-4891-91d1-abd7601f7079"
      },
      "execution_count": null,
      "outputs": [
        {
          "output_type": "stream",
          "name": "stdout",
          "text": [
            "5 + 1 = 6\n"
          ]
        },
        {
          "output_type": "execute_result",
          "data": {
            "text/plain": [
              "6"
            ]
          },
          "metadata": {},
          "execution_count": 12
        }
      ]
    },
    {
      "cell_type": "code",
      "source": [
        "def add1(a):\n",
        "    # Add 1 to a\n",
        "    b = a + 1\n",
        "    return b\n",
        "\n",
        "print(add1(5))       # Will show: 6\n",
        "C = add1(10)\n",
        "print(\"C =\", C)      # Will show: C = 11\n"
      ],
      "metadata": {
        "colab": {
          "base_uri": "https://localhost:8080/"
        },
        "id": "lQotMpx6uwlS",
        "outputId": "1aa5457b-2be6-41ac-ffc4-db621ccecd99"
      },
      "execution_count": null,
      "outputs": [
        {
          "output_type": "stream",
          "name": "stdout",
          "text": [
            "6\n",
            "C = 11\n"
          ]
        }
      ]
    },
    {
      "cell_type": "code",
      "source": [
        "def Mult(a, b):\n",
        "    # Find the product of a and b\n",
        "    c = a * b\n",
        "    return c\n",
        "\n",
        "Mult(2, 3)  # This runs the function, but result won't show unless you print it\n"
      ],
      "metadata": {
        "colab": {
          "base_uri": "https://localhost:8080/"
        },
        "id": "fX_oE-cAy8SA",
        "outputId": "fe4798a7-89a9-450f-ef16-8b1fe1bf1a41"
      },
      "execution_count": null,
      "outputs": [
        {
          "output_type": "execute_result",
          "data": {
            "text/plain": [
              "6"
            ]
          },
          "metadata": {},
          "execution_count": 20
        }
      ]
    },
    {
      "cell_type": "code",
      "source": [
        "Mult(4,5)"
      ],
      "metadata": {
        "colab": {
          "base_uri": "https://localhost:8080/"
        },
        "id": "zSOn6xYw0HwN",
        "outputId": "4ce86693-a22f-446f-97f7-eaf2b5c733bc"
      },
      "execution_count": null,
      "outputs": [
        {
          "output_type": "execute_result",
          "data": {
            "text/plain": [
              "20"
            ]
          },
          "metadata": {},
          "execution_count": 21
        }
      ]
    },
    {
      "cell_type": "code",
      "source": [
        "Mult(2, \"Michael Jackson\")"
      ],
      "metadata": {
        "colab": {
          "base_uri": "https://localhost:8080/",
          "height": 36
        },
        "id": "e3J4yGqw0Ujx",
        "outputId": "cc7c5675-fe04-4322-a2c6-a6afe5e38ef8"
      },
      "execution_count": null,
      "outputs": [
        {
          "output_type": "execute_result",
          "data": {
            "text/plain": [
              "'Michael JacksonMichael Jackson'"
            ],
            "application/vnd.google.colaboratory.intrinsic+json": {
              "type": "string"
            }
          },
          "metadata": {},
          "execution_count": 22
        }
      ]
    },
    {
      "cell_type": "code",
      "source": [
        "def MJ():\n",
        "  # When a function has no return\n",
        "  print(\"Michael Jackson\")\n",
        "MJ"
      ],
      "metadata": {
        "colab": {
          "base_uri": "https://localhost:8080/",
          "height": 104
        },
        "id": "rk0xsmEr1PrF",
        "outputId": "e203a2b6-3e12-4952-d62c-e9901fc185f5"
      },
      "execution_count": null,
      "outputs": [
        {
          "output_type": "execute_result",
          "data": {
            "text/plain": [
              "<function __main__.MJ()>"
            ],
            "text/html": [
              "<div style=\"max-width:800px; border: 1px solid var(--colab-border-color);\"><style>\n",
              "      pre.function-repr-contents {\n",
              "        overflow-x: auto;\n",
              "        padding: 8px 12px;\n",
              "        max-height: 500px;\n",
              "      }\n",
              "\n",
              "      pre.function-repr-contents.function-repr-contents-collapsed {\n",
              "        cursor: pointer;\n",
              "        max-height: 100px;\n",
              "      }\n",
              "    </style>\n",
              "    <pre style=\"white-space: initial; background:\n",
              "         var(--colab-secondary-surface-color); padding: 8px 12px;\n",
              "         border-bottom: 1px solid var(--colab-border-color);\"><b>MJ</b><br/>def MJ()</pre><pre class=\"function-repr-contents function-repr-contents-collapsed\" style=\"\"><a class=\"filepath\" style=\"display:none\" href=\"#\">/tmp/ipython-input-2670280897.py</a>&lt;no docstring&gt;</pre></div>"
            ]
          },
          "metadata": {},
          "execution_count": 26
        }
      ]
    },
    {
      "cell_type": "code",
      "source": [
        "def MJ():\n",
        "  # When a function has no return\n",
        "  print(\"Michael Jackson\")\n",
        "MJ()"
      ],
      "metadata": {
        "colab": {
          "base_uri": "https://localhost:8080/"
        },
        "id": "sD_ZCZY21w0p",
        "outputId": "40ac23a3-fd72-4ed3-87b4-430bc616abb5"
      },
      "execution_count": null,
      "outputs": [
        {
          "output_type": "stream",
          "name": "stdout",
          "text": [
            "Michael Jackson\n"
          ]
        }
      ]
    },
    {
      "cell_type": "code",
      "source": [
        "def NoWork():\n",
        "    # defining a function with no task\n",
        "    pass\n",
        "\n",
        "print(NoWork())\n"
      ],
      "metadata": {
        "colab": {
          "base_uri": "https://localhost:8080/"
        },
        "id": "T4ioUcM65Qf2",
        "outputId": "b7e94833-1aa6-464c-c5da-4d7e1c07fbd7"
      },
      "execution_count": null,
      "outputs": [
        {
          "output_type": "stream",
          "name": "stdout",
          "text": [
            "None\n"
          ]
        }
      ]
    },
    {
      "cell_type": "code",
      "source": [
        "def add1(a):\n",
        "    b = a + 1\n",
        "    print(a, \"plus 1 equals\", b)\n",
        "    return b\n",
        "\n",
        "add1(4)\n"
      ],
      "metadata": {
        "colab": {
          "base_uri": "https://localhost:8080/"
        },
        "id": "7pjXhyT56t3E",
        "outputId": "14c31cd4-f32d-487c-e974-f497de5d5c44"
      },
      "execution_count": null,
      "outputs": [
        {
          "output_type": "stream",
          "name": "stdout",
          "text": [
            "4 plus 1 equals 5\n"
          ]
        },
        {
          "output_type": "execute_result",
          "data": {
            "text/plain": [
              "5"
            ]
          },
          "metadata": {},
          "execution_count": 34
        }
      ]
    },
    {
      "cell_type": "code",
      "source": [
        "def add1(a):\n",
        "    b = a + 1\n",
        "    print(a, \" + 1 = \", b)\n",
        "    return b\n",
        "\n",
        "add1(4)"
      ],
      "metadata": {
        "colab": {
          "base_uri": "https://localhost:8080/"
        },
        "id": "_M6BBu4F7f9P",
        "outputId": "c0a6423a-9dea-4c75-8c90-5fa70c082bff"
      },
      "execution_count": null,
      "outputs": [
        {
          "output_type": "stream",
          "name": "stdout",
          "text": [
            "4  + 1 =  5\n"
          ]
        },
        {
          "output_type": "execute_result",
          "data": {
            "text/plain": [
              "5"
            ]
          },
          "metadata": {},
          "execution_count": 35
        }
      ]
    },
    {
      "cell_type": "code",
      "source": [
        "def printStuff(Stuff):\n",
        "    for i, s in enumerate(Stuff):\n",
        "        print(\"Album\", i, \"Ratings is\", s)\n",
        "\n",
        "# Define the list and call the function outside\n",
        "album_ratings = [10.5, 8.5, 9.5]\n",
        "printStuff(album_ratings)\n"
      ],
      "metadata": {
        "colab": {
          "base_uri": "https://localhost:8080/"
        },
        "id": "MHoh1Puq83Fx",
        "outputId": "b6c49d97-d929-4caa-ebce-e2b331e3bc65"
      },
      "execution_count": null,
      "outputs": [
        {
          "output_type": "stream",
          "name": "stdout",
          "text": [
            "Album 0 Ratings is 10.5\n",
            "Album 1 Ratings is 8.5\n",
            "Album 2 Ratings is 9.5\n"
          ]
        }
      ]
    },
    {
      "cell_type": "code",
      "source": [
        "def ArtistName(*names):\n",
        "    for name in names:\n",
        "        print(name)\n",
        "\n",
        "ArtistName(\"Michael Jackson\", \"AC/DC\", \"Pink Floyd\")\n"
      ],
      "metadata": {
        "colab": {
          "base_uri": "https://localhost:8080/"
        },
        "id": "sOG2i4hz_G6c",
        "outputId": "db336196-7f4a-4197-e5e9-9fbf8991ee4b"
      },
      "execution_count": 4,
      "outputs": [
        {
          "output_type": "stream",
          "name": "stdout",
          "text": [
            "Michael Jackson\n",
            "AC/DC\n",
            "Pink Floyd\n"
          ]
        }
      ]
    },
    {
      "cell_type": "code",
      "source": [
        "def AddDc(x):\n",
        "    x = x + \"DC\"      # Concatenates \"DC\" to the string x\n",
        "    print(x)          # Prints the new value\n",
        "    return x          # Returns the new value\n",
        "\n",
        "x = \"AC\"\n",
        "z = AddDc(x)\n"
      ],
      "metadata": {
        "colab": {
          "base_uri": "https://localhost:8080/"
        },
        "id": "s7M-OBKfEDUT",
        "outputId": "486f31c7-fa90-4ea0-8b17-9003ad817451"
      },
      "execution_count": 5,
      "outputs": [
        {
          "output_type": "stream",
          "name": "stdout",
          "text": [
            "ACDC\n"
          ]
        }
      ]
    },
    {
      "cell_type": "code",
      "source": [
        "def Thriller():\n",
        "    Date = 1982\n",
        "    return Date\n",
        "\n",
        "# Call the function and store the result in a variable\n",
        "Date = Thriller()       # Date = 1982\n",
        "print(Date)             # ➜ Output: 1982\n",
        "\n",
        "Date = 2017             # Now you change Date to 2017\n",
        "print(Thriller())       # ➜ Still prints 1982\n"
      ],
      "metadata": {
        "colab": {
          "base_uri": "https://localhost:8080/"
        },
        "id": "ISaR2E1Jo9QC",
        "outputId": "7c95dd8e-5128-4299-ada8-e9d8e2692d09"
      },
      "execution_count": 5,
      "outputs": [
        {
          "output_type": "stream",
          "name": "stdout",
          "text": [
            "1982\n",
            "1982\n"
          ]
        }
      ]
    },
    {
      "cell_type": "code",
      "source": [
        "def ACDC(y):\n",
        "    print(Rating)\n",
        "    return Rating + y\n",
        "\n",
        "Rating = 9\n",
        "z = ACDC(1)\n",
        "print( z)        # This will show: z = 10\n",
        "\n",
        ""
      ],
      "metadata": {
        "colab": {
          "base_uri": "https://localhost:8080/"
        },
        "id": "GFTtlAq0s-GS",
        "outputId": "a0c3e70b-5d3a-4eac-eeff-c5efd8f864cd"
      },
      "execution_count": 10,
      "outputs": [
        {
          "output_type": "stream",
          "name": "stdout",
          "text": [
            "9\n",
            "10\n"
          ]
        }
      ]
    },
    {
      "cell_type": "code",
      "source": [
        "def PinkFloyd():\n",
        "    global ClaimedSales\n",
        "    ClaimedSales = \"45 million\"\n",
        "    return ClaimedSales\n",
        "\n",
        "PinkFloyd()\n",
        "print(ClaimedSales)\n",
        "\n",
        "\n"
      ],
      "metadata": {
        "colab": {
          "base_uri": "https://localhost:8080/"
        },
        "id": "3HR7ugiLx2N8",
        "outputId": "13ed0ca6-1481-49b8-c337-3d2d4b0922e1"
      },
      "execution_count": 13,
      "outputs": [
        {
          "output_type": "stream",
          "name": "stdout",
          "text": [
            "45 million\n"
          ]
        }
      ]
    }
  ]
}