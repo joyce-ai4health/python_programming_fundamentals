{
  "nbformat": 4,
  "nbformat_minor": 0,
  "metadata": {
    "colab": {
      "provenance": []
    },
    "kernelspec": {
      "name": "python3",
      "display_name": "Python 3"
    },
    "language_info": {
      "name": "python"
    }
  },
  "cells": [
    {
      "cell_type": "code",
      "execution_count": null,
      "metadata": {
        "id": "l5uD48cUZHu6"
      },
      "outputs": [],
      "source": [
        "# Exercise 1: Handling ZeroDivisionError\n",
        "def calculate_square_root(number1):\n",
        "    if number1 >= 0:\n",
        "        result = number1 ** 0.5\n",
        "        print(\"The square root is:\", result)\n",
        "    else:\n",
        "        print(\"Invalid input! Please enter a positive integer or a float value.\")\n",
        "\n",
        "# Call the function with a number\n",
        "calculate_square_root(25)   # Example: prints 5.0\n",
        "calculate_square_root(-9)   # Example: prints the invalid input message\n",
        "\n"
      ]
    },
    {
      "cell_type": "code",
      "source": [
        "def safe_divide(numerator, denominator):\n",
        "    try:\n",
        "        # Attempt to divide\n",
        "        result = numerator / denominator\n",
        "        return result\n",
        "    except ZeroDivisionError:\n",
        "        print(\"Error: Cannot divide by zero.\")\n",
        "        return None\n",
        "    except TypeError:\n",
        "        print(\"Error: Please provide valid numbers (int or float).\")\n",
        "        return None\n",
        "\n",
        "# Ask user for input safely\n",
        "try:\n",
        "    numerator = float(input(\"Enter the numerator value: \"))\n",
        "    denominator = float(input(\"Enter the denominator value: \"))\n",
        "except ValueError:\n",
        "    print(\"Error: Please enter valid numbers.\")\n",
        "else:\n",
        "    result = safe_divide(numerator, denominator)\n",
        "    if result is not None:\n",
        "        print(\"The result is:\", result)\n",
        "\n"
      ],
      "metadata": {
        "id": "eGaUEapWZpDw"
      },
      "execution_count": null,
      "outputs": []
    },
    {
      "cell_type": "code",
      "source": [
        "# Exercise 2: Handling ValueError\n",
        "\n",
        "import math  # For math.sqrt()\n",
        "\n",
        "def calculate_square_root(number1):\n",
        "    if number1 >= 0:\n",
        "        result = math.sqrt(number1)\n",
        "        print(\"The square root is:\", result)\n",
        "    else:\n",
        "        print(\"Invalid input! Please enter a positive integer or a float value.\")\n",
        "\n",
        "# Ask the user for input\n",
        "try:\n",
        "    number1 = float(input(\"Enter a number: \"))\n",
        "except ValueError:\n",
        "    print(\"Invalid input! Please enter a valid number (int or float).\")\n",
        "else:\n",
        "    calculate_square_root(number1)\n"
      ],
      "metadata": {
        "id": "Fgmw3wrTaDTC"
      },
      "execution_count": null,
      "outputs": []
    }
  ]
}